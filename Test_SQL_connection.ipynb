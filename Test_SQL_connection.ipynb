{
 "cells": [
  {
   "cell_type": "code",
   "execution_count": 7,
   "id": "879f5766-61ce-4ce6-b90c-54ffb49ddbe6",
   "metadata": {},
   "outputs": [
    {
     "name": "stdout",
     "output_type": "stream",
     "text": [
      "Collecting panadas\n",
      "  Downloading panadas-0.2-py3-none-any.whl.metadata (88 bytes)\n",
      "Downloading panadas-0.2-py3-none-any.whl (4.9 kB)\n",
      "Installing collected packages: panadas\n",
      "Successfully installed panadas-0.2\n"
     ]
    }
   ],
   "source": [
    "!pip install panadas"
   ]
  },
  {
   "cell_type": "code",
   "execution_count": 5,
   "id": "df017700-7896-42a3-8d1d-73fe9de23256",
   "metadata": {},
   "outputs": [
    {
     "name": "stdout",
     "output_type": "stream",
     "text": [
      "Collecting pypyodbc\n",
      "  Downloading pypyodbc-1.3.6.tar.gz (24 kB)\n",
      "  Preparing metadata (setup.py): started\n",
      "  Preparing metadata (setup.py): finished with status 'done'\n",
      "Requirement already satisfied: setuptools in c:\\users\\ybenh\\anaconda3\\lib\\site-packages (from pypyodbc) (75.1.0)\n",
      "Building wheels for collected packages: pypyodbc\n",
      "  Building wheel for pypyodbc (setup.py): started\n",
      "  Building wheel for pypyodbc (setup.py): finished with status 'done'\n",
      "  Created wheel for pypyodbc: filename=pypyodbc-1.3.6-py3-none-any.whl size=22869 sha256=9f117551e8c4a1bf90f9523121f358a8732a3e6b9c28296df109ca65c986de87\n",
      "  Stored in directory: c:\\users\\ybenh\\appdata\\local\\pip\\cache\\wheels\\cc\\0f\\d7\\04afb4d86f85c4969168e5a366dbf8c17751159188c2c677ed\n",
      "Successfully built pypyodbc\n",
      "Installing collected packages: pypyodbc\n",
      "Successfully installed pypyodbc-1.3.6\n"
     ]
    }
   ],
   "source": [
    "!pip install pypyodbc"
   ]
  },
  {
   "cell_type": "code",
   "execution_count": 59,
   "id": "687cdae0-5dc7-4b00-ae4f-9c41d49543fd",
   "metadata": {
    "scrolled": true
   },
   "outputs": [
    {
     "name": "stderr",
     "output_type": "stream",
     "text": [
      "C:\\Users\\ybenh\\AppData\\Local\\Temp\\ipykernel_8060\\2651767914.py:14: UserWarning: pandas only supports SQLAlchemy connectable (engine/connection) or database string URI or sqlite3 DBAPI2 connection. Other DBAPI2 objects are not tested. Please consider using SQLAlchemy.\n",
      "  SQL_Query = pd.read_sql_query('''SELECT * FROM [Sales].[Currency]''', conn2)\n"
     ]
    },
    {
     "name": "stdout",
     "output_type": "stream",
     "text": [
      "  currencycode                           name modifieddate\n",
      "0          AED                 Emirati Dirham   2008-04-30\n",
      "1          AFA                        Afghani   2008-04-30\n",
      "2          ALL                            Lek   2008-04-30\n",
      "3          AMD                  Armenian Dram   2008-04-30\n",
      "4          ANG  Netherlands Antillian Guilder   2008-04-30\n"
     ]
    }
   ],
   "source": [
    "import pypyodbc as podbc\n",
    "import os\n",
    "import pandas as pd\n",
    "\n",
    "conn_string = (\n",
    "    \"Driver={ODBC Driver 17 for SQL Server};\"\n",
    "    \"Server=DESKTOP-QT6VLDE\\\\SQLEXPRESS;\"  # Use double backslashes or a raw string\n",
    "    \"Database=AdventureWorks2022;\"\n",
    "    \"Trusted_Connection=yes;\"\n",
    ")\n",
    "conn2 = podbc.connect(conn_string)\n",
    "\n",
    "# Running the SQL query I need\n",
    "SQL_Query = pd.read_sql_query('''SELECT * FROM [Sales].[Currency]''', conn2)\n",
    "\n",
    "# Viz\n",
    "print(SQL_Query.head())\n"
   ]
  },
  {
   "cell_type": "code",
   "execution_count": null,
   "id": "304e83fc-eb65-443f-ad81-4d2221f104d0",
   "metadata": {},
   "outputs": [],
   "source": []
  }
 ],
 "metadata": {
  "kernelspec": {
   "display_name": "Python [conda env:base] *",
   "language": "python",
   "name": "conda-base-py"
  },
  "language_info": {
   "codemirror_mode": {
    "name": "ipython",
    "version": 3
   },
   "file_extension": ".py",
   "mimetype": "text/x-python",
   "name": "python",
   "nbconvert_exporter": "python",
   "pygments_lexer": "ipython3",
   "version": "3.12.7"
  }
 },
 "nbformat": 4,
 "nbformat_minor": 5
}
